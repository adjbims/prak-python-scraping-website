{
 "cells": [
  {
   "cell_type": "code",
   "execution_count": null,
   "id": "b66daa82",
   "metadata": {},
   "outputs": [],
   "source": [
    "import requests\n",
    "from bs4 import BeautifulSoup as bs\n",
    "\n",
    "URL = 'https://proxyway.com/guides/page/'\n",
    "titles_list = []\n",
    "for page in range(1, 9):\n",
    "    #print(\"Sub Titles Page : \", page, \"\\n\")\n",
    "\n",
    "    req = requests.get(URL + str(page) + '/')\n",
    "    soup = bs(req.text, 'html.parser')\n",
    "\n",
    "    titles = soup.find_all('h3', attrs={'class', 'archive-list__title'})\n",
    "    \n",
    "    \n",
    "    for i in range(0, 12):              \n",
    "        titles_page = titles[i].text\n",
    "        list0 = page, titles_page \n",
    "        titles_list.append(list0)\n",
    "        \n",
    "    #print(titles_list)\n",
    "    \n",
    "\n",
    "with open('scraping.csv', 'w', encoding='UTF8') as f:\n",
    "    writer = csv.writer(f)\n",
    "\n",
    "    # write the header\n",
    "    writer.writerow(header)\n",
    "\n",
    "    # write the data\n",
    "    writer.writerow(titles_list)"
   ]
  }
 ],
 "metadata": {
  "kernelspec": {
   "display_name": "Python 3 (ipykernel)",
   "language": "python",
   "name": "python3"
  },
  "language_info": {
   "codemirror_mode": {
    "name": "ipython",
    "version": 3
   },
   "file_extension": ".py",
   "mimetype": "text/x-python",
   "name": "python",
   "nbconvert_exporter": "python",
   "pygments_lexer": "ipython3",
   "version": "3.9.12"
  }
 },
 "nbformat": 4,
 "nbformat_minor": 5
}
